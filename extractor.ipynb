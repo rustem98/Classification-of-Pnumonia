{
 "cells": [
  {
   "cell_type": "code",
   "execution_count": 1,
   "metadata": {},
   "outputs": [],
   "source": [
    "import os;\n",
    "import numpy as np\n",
    "import torch\n",
    "import torchvision.models as models\n",
    "import torchvision.transforms as transforms\n",
    "from PIL import Image\n",
    "import PIL\n",
    "from timeit import default_timer as timer"
   ]
  },
  {
   "cell_type": "code",
   "execution_count": 2,
   "metadata": {},
   "outputs": [
    {
     "name": "stdout",
     "output_type": "stream",
     "text": [
      "cuda:0\n"
     ]
    }
   ],
   "source": [
    "class FeatureExtractor():\n",
    "    def __init__(self):\n",
    "        self.model = models.vgg16(pretrained=True);\n",
    "        self.layer = self.model.classifier[-3];\n",
    "        self.device = torch.device(\"cuda:0\") if torch.cuda.is_available() else torch.device('cpu');\n",
    "        print(self.device)\n",
    "        self.model.to(self.device)\n",
    "        self.model.eval();\n",
    "        self.resizer = transforms.Resize((224,224));\n",
    "        self.transformer = transforms.ToTensor();\n",
    "    \n",
    "    \n",
    "    def get(self, img):\n",
    "        features = torch.zeros(len(img), 4096);\n",
    "        def copy_output(model, inp, out):\n",
    "            features.copy_(out.data)\n",
    "        \n",
    "        img = [ self.transformer(self.resizer(i)) for i in img ];\n",
    "        images = torch.stack(img).to( self.device );\n",
    "                    \n",
    "        \n",
    "        self.layer.register_forward_hook(copy_output);\n",
    "        self.model(images);\n",
    "        \n",
    "        return features.numpy();\n",
    "        \n",
    "extractor = FeatureExtractor();\n"
   ]
  },
  {
   "cell_type": "code",
   "execution_count": 7,
   "metadata": {},
   "outputs": [
    {
     "name": "stdout",
     "output_type": "stream",
     "text": [
      "(3870, 4096)\n",
      "It took 706.48 seconds\n"
     ]
    }
   ],
   "source": [
    "start = timer()\n",
    "directory = 'dataset/train/PNEUMONIA'\n",
    "i = 0\n",
    "j = 0\n",
    "train_PNEUMONIA = np.zeros((3870,4096))\n",
    "for fname in os.listdir(directory):\n",
    "    if i==0:\n",
    "        images = []\n",
    "    img = Image.open(directory + \"/\" + fname).convert('RGB')\n",
    "    \n",
    "    if i < 10:\n",
    "        images.append(img)\n",
    "        i += 1\n",
    "    \n",
    "    if i == 10:\n",
    "        tmp = extractor.get(images);\n",
    "        train_PNEUMONIA[10*j : 10*(j+1) , :] = tmp\n",
    "        j += 1 \n",
    "        i = 0\n",
    "    \n",
    "print(train_PNEUMONIA.shape)\n",
    "print(\"It took {p:.2f} seconds\".format(p = timer()-start))"
   ]
  },
  {
   "cell_type": "code",
   "execution_count": 9,
   "metadata": {},
   "outputs": [
    {
     "name": "stdout",
     "output_type": "stream",
     "text": [
      "(1340, 4096)\n",
      "It took 265.30 seconds\n"
     ]
    }
   ],
   "source": [
    "start = timer()\n",
    "directory = 'dataset/train/NORMAL'\n",
    "i = 0\n",
    "j = 0\n",
    "train_NORMAL = np.zeros((1340,4096))\n",
    "for fname in os.listdir(directory):\n",
    "    if i==0:\n",
    "        images = []\n",
    "    img = Image.open(directory + \"/\" + fname).convert('RGB')\n",
    "    \n",
    "    if i < 10:\n",
    "        images.append(img)\n",
    "        i += 1\n",
    "    \n",
    "    if i == 10:\n",
    "        tmp = extractor.get(images);\n",
    "        train_NORMAL[10*j : 10*(j+1) , :] = tmp\n",
    "        j += 1 \n",
    "        i = 0\n",
    "    \n",
    "print(train_NORMAL.shape)\n",
    "print(\"It took {p:.2f} seconds\".format(p = timer()-start))"
   ]
  },
  {
   "cell_type": "code",
   "execution_count": 10,
   "metadata": {
    "scrolled": true
   },
   "outputs": [
    {
     "name": "stdout",
     "output_type": "stream",
     "text": [
      "(5210, 4096)\n"
     ]
    }
   ],
   "source": [
    "X_train = np.concatenate((train_NORMAL, train_PNEUMONIA), axis=0)\n",
    "print(X_train.shape)"
   ]
  },
  {
   "cell_type": "code",
   "execution_count": 11,
   "metadata": {},
   "outputs": [
    {
     "name": "stdout",
     "output_type": "stream",
     "text": [
      "1340\n"
     ]
    }
   ],
   "source": [
    "y_train = np.concatenate( ( np.zeros(train_NORMAL.shape[0]), np.ones(train_PNEUMONIA.shape[0]) ) , axis = 0 )\n",
    "print(  (y_train == 0).sum() )"
   ]
  },
  {
   "cell_type": "code",
   "execution_count": 12,
   "metadata": {},
   "outputs": [
    {
     "name": "stdout",
     "output_type": "stream",
     "text": [
      "(390, 4096)\n",
      "It took 82.14 seconds\n"
     ]
    }
   ],
   "source": [
    "start = timer()\n",
    "directory = 'dataset/test/PNEUMONIA'\n",
    "i = 0\n",
    "j = 0\n",
    "test_PNEUMONIA = np.zeros((390,4096))\n",
    "for fname in os.listdir(directory):\n",
    "    if i==0:\n",
    "        images = []\n",
    "    img = Image.open(directory + \"/\" + fname).convert('RGB')\n",
    "    \n",
    "    if i < 10:\n",
    "        images.append(img)\n",
    "        i += 1\n",
    "    \n",
    "    if i == 10:\n",
    "        tmp = extractor.get(images);\n",
    "        test_PNEUMONIA[10*j : 10*(j+1) , :] = tmp\n",
    "        j += 1 \n",
    "        i = 0\n",
    "    \n",
    "print(test_PNEUMONIA.shape)\n",
    "print(\"It took {p:.2f} seconds\".format(p = timer()-start))"
   ]
  },
  {
   "cell_type": "code",
   "execution_count": 13,
   "metadata": {},
   "outputs": [
    {
     "name": "stdout",
     "output_type": "stream",
     "text": [
      "(230, 4096)\n",
      "It took 53.88 seconds\n"
     ]
    }
   ],
   "source": [
    "start = timer()\n",
    "directory = 'dataset/test/NORMAL'\n",
    "i = 0\n",
    "j = 0\n",
    "test_NORMAL = np.zeros((230,4096))\n",
    "for fname in os.listdir(directory):\n",
    "    if i==0:\n",
    "        images = []\n",
    "    img = Image.open(directory + \"/\" + fname).convert('RGB')\n",
    "    \n",
    "    if i < 10:\n",
    "        images.append(img)\n",
    "        i += 1\n",
    "    \n",
    "    if i == 10:\n",
    "        tmp = extractor.get(images);\n",
    "        test_NORMAL[10*j : 10*(j+1) , :] = tmp\n",
    "        j += 1 \n",
    "        i = 0\n",
    "    \n",
    "print(test_NORMAL.shape)\n",
    "print(\"It took {p:.2f} seconds\".format(p = timer()-start))"
   ]
  },
  {
   "cell_type": "code",
   "execution_count": 14,
   "metadata": {},
   "outputs": [
    {
     "name": "stdout",
     "output_type": "stream",
     "text": [
      "(620, 4096)\n",
      "230\n"
     ]
    }
   ],
   "source": [
    "X_test = np.concatenate((test_NORMAL, test_PNEUMONIA), axis=0)\n",
    "print(X_test.shape)\n",
    "y_test = np.concatenate( ( np.zeros(test_NORMAL.shape[0]), np.ones(test_PNEUMONIA.shape[0]) ) , axis = 0 )\n",
    "print(  (y_test == 0).sum() )"
   ]
  },
  {
   "cell_type": "code",
   "execution_count": 29,
   "metadata": {},
   "outputs": [],
   "source": [
    "np.save('X_train',X_train)\n",
    "np.save('y_train',y_train)\n",
    "np.save('X_test',X_test)\n",
    "np.save('y_test',y_test)"
   ]
  }
 ],
 "metadata": {
  "kernelspec": {
   "display_name": "Python 3",
   "language": "python",
   "name": "python3"
  },
  "language_info": {
   "codemirror_mode": {
    "name": "ipython",
    "version": 3
   },
   "file_extension": ".py",
   "mimetype": "text/x-python",
   "name": "python",
   "nbconvert_exporter": "python",
   "pygments_lexer": "ipython3",
   "version": "3.7.4"
  }
 },
 "nbformat": 4,
 "nbformat_minor": 2
}
